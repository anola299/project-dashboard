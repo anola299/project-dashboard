{
  "nbformat": 4,
  "nbformat_minor": 0,
  "metadata": {
    "colab": {
      "provenance": [],
      "gpuType": "T4"
    },
    "kernelspec": {
      "name": "python3",
      "display_name": "Python 3"
    },
    "language_info": {
      "name": "python"
    },
    "accelerator": "GPU"
  },
  "cells": [
    {
      "cell_type": "code",
      "source": [
        "# Import necessary libraries\n",
        "import pandas as pd"
      ],
      "metadata": {
        "id": "VRy04a6JNAAk"
      },
      "execution_count": 1,
      "outputs": []
    },
    {
      "cell_type": "code",
      "source": [
        "# Upload the Excel file\n",
        "from google.colab import files\n",
        "uploaded = files.upload()\n"
      ],
      "metadata": {
        "colab": {
          "base_uri": "https://localhost:8080/",
          "height": 90
        },
        "id": "N-zUOhwDNAdg",
        "outputId": "2c217bcf-18d2-4a82-c637-ab465a8c9f43"
      },
      "execution_count": 2,
      "outputs": [
        {
          "output_type": "display_data",
          "data": {
            "text/plain": [
              "<IPython.core.display.HTML object>"
            ],
            "text/html": [
              "\n",
              "     <input type=\"file\" id=\"files-220b34fb-771a-4052-9232-4332d730eb19\" name=\"files[]\" multiple disabled\n",
              "        style=\"border:none\" />\n",
              "     <output id=\"result-220b34fb-771a-4052-9232-4332d730eb19\">\n",
              "      Upload widget is only available when the cell has been executed in the\n",
              "      current browser session. Please rerun this cell to enable.\n",
              "      </output>\n",
              "      <script>// Copyright 2017 Google LLC\n",
              "//\n",
              "// Licensed under the Apache License, Version 2.0 (the \"License\");\n",
              "// you may not use this file except in compliance with the License.\n",
              "// You may obtain a copy of the License at\n",
              "//\n",
              "//      http://www.apache.org/licenses/LICENSE-2.0\n",
              "//\n",
              "// Unless required by applicable law or agreed to in writing, software\n",
              "// distributed under the License is distributed on an \"AS IS\" BASIS,\n",
              "// WITHOUT WARRANTIES OR CONDITIONS OF ANY KIND, either express or implied.\n",
              "// See the License for the specific language governing permissions and\n",
              "// limitations under the License.\n",
              "\n",
              "/**\n",
              " * @fileoverview Helpers for google.colab Python module.\n",
              " */\n",
              "(function(scope) {\n",
              "function span(text, styleAttributes = {}) {\n",
              "  const element = document.createElement('span');\n",
              "  element.textContent = text;\n",
              "  for (const key of Object.keys(styleAttributes)) {\n",
              "    element.style[key] = styleAttributes[key];\n",
              "  }\n",
              "  return element;\n",
              "}\n",
              "\n",
              "// Max number of bytes which will be uploaded at a time.\n",
              "const MAX_PAYLOAD_SIZE = 100 * 1024;\n",
              "\n",
              "function _uploadFiles(inputId, outputId) {\n",
              "  const steps = uploadFilesStep(inputId, outputId);\n",
              "  const outputElement = document.getElementById(outputId);\n",
              "  // Cache steps on the outputElement to make it available for the next call\n",
              "  // to uploadFilesContinue from Python.\n",
              "  outputElement.steps = steps;\n",
              "\n",
              "  return _uploadFilesContinue(outputId);\n",
              "}\n",
              "\n",
              "// This is roughly an async generator (not supported in the browser yet),\n",
              "// where there are multiple asynchronous steps and the Python side is going\n",
              "// to poll for completion of each step.\n",
              "// This uses a Promise to block the python side on completion of each step,\n",
              "// then passes the result of the previous step as the input to the next step.\n",
              "function _uploadFilesContinue(outputId) {\n",
              "  const outputElement = document.getElementById(outputId);\n",
              "  const steps = outputElement.steps;\n",
              "\n",
              "  const next = steps.next(outputElement.lastPromiseValue);\n",
              "  return Promise.resolve(next.value.promise).then((value) => {\n",
              "    // Cache the last promise value to make it available to the next\n",
              "    // step of the generator.\n",
              "    outputElement.lastPromiseValue = value;\n",
              "    return next.value.response;\n",
              "  });\n",
              "}\n",
              "\n",
              "/**\n",
              " * Generator function which is called between each async step of the upload\n",
              " * process.\n",
              " * @param {string} inputId Element ID of the input file picker element.\n",
              " * @param {string} outputId Element ID of the output display.\n",
              " * @return {!Iterable<!Object>} Iterable of next steps.\n",
              " */\n",
              "function* uploadFilesStep(inputId, outputId) {\n",
              "  const inputElement = document.getElementById(inputId);\n",
              "  inputElement.disabled = false;\n",
              "\n",
              "  const outputElement = document.getElementById(outputId);\n",
              "  outputElement.innerHTML = '';\n",
              "\n",
              "  const pickedPromise = new Promise((resolve) => {\n",
              "    inputElement.addEventListener('change', (e) => {\n",
              "      resolve(e.target.files);\n",
              "    });\n",
              "  });\n",
              "\n",
              "  const cancel = document.createElement('button');\n",
              "  inputElement.parentElement.appendChild(cancel);\n",
              "  cancel.textContent = 'Cancel upload';\n",
              "  const cancelPromise = new Promise((resolve) => {\n",
              "    cancel.onclick = () => {\n",
              "      resolve(null);\n",
              "    };\n",
              "  });\n",
              "\n",
              "  // Wait for the user to pick the files.\n",
              "  const files = yield {\n",
              "    promise: Promise.race([pickedPromise, cancelPromise]),\n",
              "    response: {\n",
              "      action: 'starting',\n",
              "    }\n",
              "  };\n",
              "\n",
              "  cancel.remove();\n",
              "\n",
              "  // Disable the input element since further picks are not allowed.\n",
              "  inputElement.disabled = true;\n",
              "\n",
              "  if (!files) {\n",
              "    return {\n",
              "      response: {\n",
              "        action: 'complete',\n",
              "      }\n",
              "    };\n",
              "  }\n",
              "\n",
              "  for (const file of files) {\n",
              "    const li = document.createElement('li');\n",
              "    li.append(span(file.name, {fontWeight: 'bold'}));\n",
              "    li.append(span(\n",
              "        `(${file.type || 'n/a'}) - ${file.size} bytes, ` +\n",
              "        `last modified: ${\n",
              "            file.lastModifiedDate ? file.lastModifiedDate.toLocaleDateString() :\n",
              "                                    'n/a'} - `));\n",
              "    const percent = span('0% done');\n",
              "    li.appendChild(percent);\n",
              "\n",
              "    outputElement.appendChild(li);\n",
              "\n",
              "    const fileDataPromise = new Promise((resolve) => {\n",
              "      const reader = new FileReader();\n",
              "      reader.onload = (e) => {\n",
              "        resolve(e.target.result);\n",
              "      };\n",
              "      reader.readAsArrayBuffer(file);\n",
              "    });\n",
              "    // Wait for the data to be ready.\n",
              "    let fileData = yield {\n",
              "      promise: fileDataPromise,\n",
              "      response: {\n",
              "        action: 'continue',\n",
              "      }\n",
              "    };\n",
              "\n",
              "    // Use a chunked sending to avoid message size limits. See b/62115660.\n",
              "    let position = 0;\n",
              "    do {\n",
              "      const length = Math.min(fileData.byteLength - position, MAX_PAYLOAD_SIZE);\n",
              "      const chunk = new Uint8Array(fileData, position, length);\n",
              "      position += length;\n",
              "\n",
              "      const base64 = btoa(String.fromCharCode.apply(null, chunk));\n",
              "      yield {\n",
              "        response: {\n",
              "          action: 'append',\n",
              "          file: file.name,\n",
              "          data: base64,\n",
              "        },\n",
              "      };\n",
              "\n",
              "      let percentDone = fileData.byteLength === 0 ?\n",
              "          100 :\n",
              "          Math.round((position / fileData.byteLength) * 100);\n",
              "      percent.textContent = `${percentDone}% done`;\n",
              "\n",
              "    } while (position < fileData.byteLength);\n",
              "  }\n",
              "\n",
              "  // All done.\n",
              "  yield {\n",
              "    response: {\n",
              "      action: 'complete',\n",
              "    }\n",
              "  };\n",
              "}\n",
              "\n",
              "scope.google = scope.google || {};\n",
              "scope.google.colab = scope.google.colab || {};\n",
              "scope.google.colab._files = {\n",
              "  _uploadFiles,\n",
              "  _uploadFilesContinue,\n",
              "};\n",
              "})(self);\n",
              "</script> "
            ]
          },
          "metadata": {}
        },
        {
          "output_type": "stream",
          "name": "stdout",
          "text": [
            "Saving py project dataset.xlsx to py project dataset.xlsx\n"
          ]
        }
      ]
    },
    {
      "cell_type": "code",
      "source": [
        "# Load the Excel file using Pandas\n",
        "df = pd.read_excel(\"/content/py project dataset.xlsx\")\n",
        "\n",
        "# Display the first 5 rows\n",
        "print(\"### Data Preview\")\n",
        "print(df.head())"
      ],
      "metadata": {
        "colab": {
          "base_uri": "https://localhost:8080/"
        },
        "id": "J_0wgdeTND5W",
        "outputId": "37a04041-41d4-4799-b911-8086591f0252"
      },
      "execution_count": 4,
      "outputs": [
        {
          "output_type": "stream",
          "name": "stdout",
          "text": [
            "### Data Preview\n",
            "                Project Name  \\\n",
            "0                 Rhinestone   \n",
            "1     A Triumph Of Softwares   \n",
            "2              The Blue Bird   \n",
            "3  Remembering Our Ancestors   \n",
            "4                   Skyhawks   \n",
            "\n",
            "                                 Project Description  \\\n",
            "0  Associations Now Is A Casual Game To Teach You...   \n",
            "1  Is A Fully Managed Content Marketing Software ...   \n",
            "2  Most Content Marketers Know The Golden Rule: Y...   \n",
            "3  Utilize And Utilizes (Verb Form) The Open, Inc...   \n",
            "4  Is A Solution For Founders Who Want To Win At ...   \n",
            "\n",
            "                  Project Type  Project Manager Region           Department  \\\n",
            "0            INCOME GENERATION      Yael Wilcox  North           Admin & BI   \n",
            "1            INCOME GENERATION  Brenda Chandler   West            eCommerce   \n",
            "2            INCOME GENERATION    Nyasia Hunter  North            Warehouse   \n",
            "3          PROCESS IMPROVEMENT  Brenda Chandler   East  Sales and Marketing   \n",
            "4  WORKING CAPITAL IMPROVEMENT  Jaylyn Mckenzie   East            eCommerce   \n",
            "\n",
            "    Project Cost    Project Benefit  Complexity         Status  Completion%  \\\n",
            "0         3648615            8443980       High  In - Progress         0.77   \n",
            "1         4018835            9012225       High      Cancelled         0.80   \n",
            "2         4285483            9078339       High      Completed         1.00   \n",
            "3         5285864            8719006       High      Cancelled         0.75   \n",
            "4         5785601            8630148       High      Completed         1.00   \n",
            "\n",
            "                 Phase  Year  Month Start Date   End Date  \n",
            "0  Phase 4 - Implement  2021      2 2021-01-02 2021-01-06  \n",
            "1    Phase 2 - Develop  2021      3 2021-01-03 2021-01-06  \n",
            "2  Phase 4 - Implement  2021      3 2021-01-03 2021-01-06  \n",
            "3    Phase 5 - Measure  2021      3 2021-01-03 2021-01-06  \n",
            "4    Phase 1 - Explore  2021      3 2021-01-03 2021-01-06  \n"
          ]
        }
      ]
    },
    {
      "cell_type": "code",
      "source": [
        "# Check for missing values\n",
        "print(\"### Missing Values\")\n",
        "print(df.isnull().sum())\n",
        "# Handle missing values (example: forward fill)\n",
        "df.ffill(inplace=True)  # Forward fill for missing values"
      ],
      "metadata": {
        "colab": {
          "base_uri": "https://localhost:8080/"
        },
        "id": "92XDsMRMNKXV",
        "outputId": "bccd2326-5aaf-47de-d83e-5a718d9fd068"
      },
      "execution_count": 8,
      "outputs": [
        {
          "output_type": "stream",
          "name": "stdout",
          "text": [
            "### Missing Values\n",
            "Project Name           0\n",
            "Project Description    0\n",
            "Project Type           0\n",
            "Project Manager        0\n",
            "Region                 0\n",
            "Department             0\n",
            " Project Cost          0\n",
            " Project Benefit       0\n",
            "Complexity             0\n",
            "Status                 0\n",
            "Completion%            0\n",
            "Phase                  0\n",
            "Year                   0\n",
            "Month                  0\n",
            "Start Date             0\n",
            "End Date               0\n",
            "dtype: int64\n"
          ]
        }
      ]
    },
    {
      "cell_type": "code",
      "source": [
        "# Ensure 'Start Date' and 'End Date' are in datetime format\n",
        "df['Start Date'] = pd.to_datetime(df['Start Date'])\n",
        "df['End Date'] = pd.to_datetime(df['End Date'])\n",
        "\n",
        "# Confirm column names and data types\n",
        "print(\"### Data Types\")\n",
        "print(df.dtypes)\n"
      ],
      "metadata": {
        "colab": {
          "base_uri": "https://localhost:8080/"
        },
        "id": "xzew5WdjNOPd",
        "outputId": "b4e7d147-c7f4-4bdd-9897-5cb07aac105b"
      },
      "execution_count": 9,
      "outputs": [
        {
          "output_type": "stream",
          "name": "stdout",
          "text": [
            "### Data Types\n",
            "Project Name                   object\n",
            "Project Description            object\n",
            "Project Type                   object\n",
            "Project Manager                object\n",
            "Region                         object\n",
            "Department                     object\n",
            " Project Cost                   int64\n",
            " Project Benefit                int64\n",
            "Complexity                     object\n",
            "Status                         object\n",
            "Completion%                   float64\n",
            "Phase                          object\n",
            "Year                            int64\n",
            "Month                           int64\n",
            "Start Date             datetime64[ns]\n",
            "End Date               datetime64[ns]\n",
            "dtype: object\n"
          ]
        }
      ]
    },
    {
      "cell_type": "code",
      "source": [
        "\n",
        "# Remove leading/trailing spaces from column names\n",
        "df.columns = df.columns.str.strip()\n",
        "\n",
        "# Create 'Duration (days)' column\n",
        "df['Duration (days)'] = (df['End Date'] - df['Start Date']).dt.days"
      ],
      "metadata": {
        "id": "tQ97b9ZQNQ3x"
      },
      "execution_count": 10,
      "outputs": []
    },
    {
      "cell_type": "code",
      "source": [
        "# Create 'ROI' column\n",
        "df['ROI'] = (df['Project Benefit'] - df['Project Cost']) / df['Project Cost']\n",
        "\n",
        "# Display the first few rows with the new columns\n",
        "print(\"### Processed Data Preview\")\n",
        "print(df[['Project Name', 'Duration (days)', 'ROI']].head())\n"
      ],
      "metadata": {
        "colab": {
          "base_uri": "https://localhost:8080/"
        },
        "id": "0eYTXzC6NS2p",
        "outputId": "259fe553-0976-4299-c307-c046b4056533"
      },
      "execution_count": 11,
      "outputs": [
        {
          "output_type": "stream",
          "name": "stdout",
          "text": [
            "### Processed Data Preview\n",
            "                Project Name  Duration (days)       ROI\n",
            "0                 Rhinestone                4  1.314297\n",
            "1     A Triumph Of Softwares                3  1.242497\n",
            "2              The Blue Bird                3  1.118393\n",
            "3  Remembering Our Ancestors                3  0.649495\n",
            "4                   Skyhawks                3  0.491660\n"
          ]
        }
      ]
    },
    {
      "cell_type": "code",
      "execution_count": 12,
      "metadata": {
        "colab": {
          "base_uri": "https://localhost:8080/",
          "height": 17
        },
        "id": "8Ky--uUNM8cz",
        "outputId": "c9d5851f-61f8-4d4e-aabf-d76e764f9131"
      },
      "outputs": [
        {
          "output_type": "display_data",
          "data": {
            "text/plain": [
              "<IPython.core.display.Javascript object>"
            ],
            "application/javascript": [
              "\n",
              "    async function download(id, filename, size) {\n",
              "      if (!google.colab.kernel.accessAllowed) {\n",
              "        return;\n",
              "      }\n",
              "      const div = document.createElement('div');\n",
              "      const label = document.createElement('label');\n",
              "      label.textContent = `Downloading \"${filename}\": `;\n",
              "      div.appendChild(label);\n",
              "      const progress = document.createElement('progress');\n",
              "      progress.max = size;\n",
              "      div.appendChild(progress);\n",
              "      document.body.appendChild(div);\n",
              "\n",
              "      const buffers = [];\n",
              "      let downloaded = 0;\n",
              "\n",
              "      const channel = await google.colab.kernel.comms.open(id);\n",
              "      // Send a message to notify the kernel that we're ready.\n",
              "      channel.send({})\n",
              "\n",
              "      for await (const message of channel.messages) {\n",
              "        // Send a message to notify the kernel that we're ready.\n",
              "        channel.send({})\n",
              "        if (message.buffers) {\n",
              "          for (const buffer of message.buffers) {\n",
              "            buffers.push(buffer);\n",
              "            downloaded += buffer.byteLength;\n",
              "            progress.value = downloaded;\n",
              "          }\n",
              "        }\n",
              "      }\n",
              "      const blob = new Blob(buffers, {type: 'application/binary'});\n",
              "      const a = document.createElement('a');\n",
              "      a.href = window.URL.createObjectURL(blob);\n",
              "      a.download = filename;\n",
              "      div.appendChild(a);\n",
              "      a.click();\n",
              "      div.remove();\n",
              "    }\n",
              "  "
            ]
          },
          "metadata": {}
        },
        {
          "output_type": "display_data",
          "data": {
            "text/plain": [
              "<IPython.core.display.Javascript object>"
            ],
            "application/javascript": [
              "download(\"download_903d65ac-4a29-4485-b261-a4e5b8dd3d77\", \"processed_data.csv\", 44510)"
            ]
          },
          "metadata": {}
        }
      ],
      "source": [
        "# Save the processed data to a CSV file\n",
        "df.to_csv('processed_data.csv', index=False)  # Save as CSV\n",
        "\n",
        "# Download the processed file\n",
        "files.download('processed_data.csv')"
      ]
    }
  ]
}